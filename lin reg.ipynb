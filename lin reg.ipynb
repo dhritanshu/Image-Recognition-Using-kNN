{
 "cells": [
  {
   "cell_type": "code",
   "execution_count": 29,
   "metadata": {},
   "outputs": [],
   "source": [
    "import numpy as np\n",
    "import matplotlib.pyplot as plt\n",
    "import pandas as pd"
   ]
  },
  {
   "cell_type": "code",
   "execution_count": 57,
   "metadata": {},
   "outputs": [],
   "source": [
    "X = pd.read_csv(\"LR/linearX.csv\").values\n",
    "Y = pd.read_csv(\"LR/linearY.csv\").values"
   ]
  },
  {
   "cell_type": "code",
   "execution_count": 58,
   "metadata": {},
   "outputs": [
    {
     "data": {
      "text/plain": [
       "array([[ 8. ],\n",
       "       [ 9.1],\n",
       "       [ 8.4],\n",
       "       [ 6.9],\n",
       "       [ 7.7],\n",
       "       [15.6],\n",
       "       [ 7.3],\n",
       "       [ 7. ],\n",
       "       [ 7.2],\n",
       "       [10.1],\n",
       "       [11.5],\n",
       "       [ 7.1],\n",
       "       [10. ],\n",
       "       [ 8.9],\n",
       "       [ 7.9],\n",
       "       [ 5.6],\n",
       "       [ 6.3],\n",
       "       [ 6.7],\n",
       "       [10.4],\n",
       "       [ 8.5],\n",
       "       [ 7.4],\n",
       "       [ 6.3],\n",
       "       [ 5.4],\n",
       "       [ 8.9],\n",
       "       [ 9.4],\n",
       "       [ 7.5],\n",
       "       [11.9],\n",
       "       [ 7.8],\n",
       "       [ 7.4],\n",
       "       [10.8],\n",
       "       [10.2],\n",
       "       [ 6.2],\n",
       "       [ 7.7],\n",
       "       [13.7],\n",
       "       [ 8. ],\n",
       "       [ 6.7],\n",
       "       [ 6.7],\n",
       "       [ 7. ],\n",
       "       [ 8.3],\n",
       "       [ 7.4],\n",
       "       [ 9.9],\n",
       "       [ 6.1],\n",
       "       [ 7. ],\n",
       "       [ 5.4],\n",
       "       [10.7],\n",
       "       [ 7.6],\n",
       "       [ 8.9],\n",
       "       [ 9.2],\n",
       "       [ 6.6],\n",
       "       [ 7.2],\n",
       "       [ 8. ],\n",
       "       [ 7.8],\n",
       "       [ 7.9],\n",
       "       [ 7. ],\n",
       "       [ 7. ],\n",
       "       [ 7.6],\n",
       "       [ 9.1],\n",
       "       [ 9. ],\n",
       "       [ 7.9],\n",
       "       [ 6.6],\n",
       "       [11.9],\n",
       "       [ 6.5],\n",
       "       [ 7.1],\n",
       "       [ 8.8],\n",
       "       [ 7.5],\n",
       "       [ 7.7],\n",
       "       [ 6. ],\n",
       "       [10.6],\n",
       "       [ 6.6],\n",
       "       [ 8.2],\n",
       "       [ 7.9],\n",
       "       [ 7.1],\n",
       "       [ 5.6],\n",
       "       [ 6.4],\n",
       "       [ 7.5],\n",
       "       [ 9.8],\n",
       "       [ 7. ],\n",
       "       [10.5],\n",
       "       [ 7.1],\n",
       "       [ 6.2],\n",
       "       [ 6.5],\n",
       "       [ 7.7],\n",
       "       [ 7.2],\n",
       "       [ 9.3],\n",
       "       [ 8.5],\n",
       "       [ 7.7],\n",
       "       [ 6.8],\n",
       "       [ 7.8],\n",
       "       [ 8.7],\n",
       "       [ 9.6],\n",
       "       [ 7.2],\n",
       "       [ 9.3],\n",
       "       [ 8.1],\n",
       "       [ 6.6],\n",
       "       [ 7.8],\n",
       "       [10.2],\n",
       "       [ 6.1],\n",
       "       [ 7.3],\n",
       "       [ 7.3]])"
      ]
     },
     "execution_count": 58,
     "metadata": {},
     "output_type": "execute_result"
    }
   ],
   "source": [
    "X"
   ]
  },
  {
   "cell_type": "code",
   "execution_count": 59,
   "metadata": {},
   "outputs": [
    {
     "data": {
      "text/plain": [
       "(99, 1)"
      ]
     },
     "execution_count": 59,
     "metadata": {},
     "output_type": "execute_result"
    }
   ],
   "source": [
    "X.shape"
   ]
  },
  {
   "cell_type": "code",
   "execution_count": 60,
   "metadata": {},
   "outputs": [
    {
     "data": {
      "image/png": "[encoded data removed]",
      "text/plain": [
       "<Figure size 432x288 with 1 Axes>"
      ]
     },
     "metadata": {
      "needs_background": "light"
     },
     "output_type": "display_data"
    }
   ],
   "source": [
    "plt.scatter(X,y)\n",
    "plt.show()"
   ]
  },
  {
   "cell_type": "code",
   "execution_count": 61,
   "metadata": {},
   "outputs": [
    {
     "data": {
      "text/plain": [
       "8.05151515151515"
      ]
     },
     "execution_count": 61,
     "metadata": {},
     "output_type": "execute_result"
    }
   ],
   "source": [
    "np.mean(X)"
   ]
  },
  {
   "cell_type": "code",
   "execution_count": 62,
   "metadata": {},
   "outputs": [
    {
     "data": {
      "text/plain": [
       "1.728627857571563"
      ]
     },
     "execution_count": 62,
     "metadata": {},
     "output_type": "execute_result"
    }
   ],
   "source": [
    "np.std(X)"
   ]
  },
  {
   "cell_type": "code",
   "execution_count": 63,
   "metadata": {},
   "outputs": [],
   "source": [
    "X_norm = ( X-X.mean() ) / X.std()"
   ]
  },
  {
   "cell_type": "code",
   "execution_count": 64,
   "metadata": {},
   "outputs": [
    {
     "data": {
      "text/plain": [
       "array([[-0.02980118],\n",
       "       [ 0.60654168],\n",
       "       [ 0.20159622],\n",
       "       [-0.66614404],\n",
       "       [-0.20334923],\n",
       "       [ 4.36674951],\n",
       "       [-0.43474664],\n",
       "       [-0.60829469],\n",
       "       [-0.49259599],\n",
       "       [ 1.18503519],\n",
       "       [ 1.99492611],\n",
       "       [-0.55044534],\n",
       "       [ 1.12718584],\n",
       "       [ 0.49084298],\n",
       "       [-0.08765053],\n",
       "       [-1.41818561],\n",
       "       [-1.01324015],\n",
       "       [-0.78184275],\n",
       "       [ 1.35858325],\n",
       "       [ 0.25944558],\n",
       "       [-0.37689729],\n",
       "       [-1.01324015],\n",
       "       [-1.53388431],\n",
       "       [ 0.49084298],\n",
       "       [ 0.78008974],\n",
       "       [-0.31904794],\n",
       "       [ 2.22632352],\n",
       "       [-0.14549988],\n",
       "       [-0.37689729],\n",
       "       [ 1.58998065],\n",
       "       [ 1.24288455],\n",
       "       [-1.0710895 ],\n",
       "       [-0.20334923],\n",
       "       [ 3.26761184],\n",
       "       [-0.02980118],\n",
       "       [-0.78184275],\n",
       "       [-0.78184275],\n",
       "       [-0.60829469],\n",
       "       [ 0.14374687],\n",
       "       [-0.37689729],\n",
       "       [ 1.06933649],\n",
       "       [-1.12893885],\n",
       "       [-0.60829469],\n",
       "       [-1.53388431],\n",
       "       [ 1.5321313 ],\n",
       "       [-0.26119859],\n",
       "       [ 0.49084298],\n",
       "       [ 0.66439103],\n",
       "       [-0.8396921 ],\n",
       "       [-0.49259599],\n",
       "       [-0.02980118],\n",
       "       [-0.14549988],\n",
       "       [-0.08765053],\n",
       "       [-0.60829469],\n",
       "       [-0.60829469],\n",
       "       [-0.26119859],\n",
       "       [ 0.60654168],\n",
       "       [ 0.54869233],\n",
       "       [-0.08765053],\n",
       "       [-0.8396921 ],\n",
       "       [ 2.22632352],\n",
       "       [-0.89754145],\n",
       "       [-0.55044534],\n",
       "       [ 0.43299363],\n",
       "       [-0.31904794],\n",
       "       [-0.20334923],\n",
       "       [-1.1867882 ],\n",
       "       [ 1.47428195],\n",
       "       [-0.8396921 ],\n",
       "       [ 0.08589752],\n",
       "       [-0.08765053],\n",
       "       [-0.55044534],\n",
       "       [-1.41818561],\n",
       "       [-0.9553908 ],\n",
       "       [-0.31904794],\n",
       "       [ 1.01148714],\n",
       "       [-0.60829469],\n",
       "       [ 1.4164326 ],\n",
       "       [-0.55044534],\n",
       "       [-1.0710895 ],\n",
       "       [-0.89754145],\n",
       "       [-0.20334923],\n",
       "       [-0.49259599],\n",
       "       [ 0.72224038],\n",
       "       [ 0.25944558],\n",
       "       [-0.20334923],\n",
       "       [-0.7239934 ],\n",
       "       [-0.14549988],\n",
       "       [ 0.37514428],\n",
       "       [ 0.89578844],\n",
       "       [-0.49259599],\n",
       "       [ 0.72224038],\n",
       "       [ 0.02804817],\n",
       "       [-0.8396921 ],\n",
       "       [-0.14549988],\n",
       "       [ 1.24288455],\n",
       "       [-1.12893885],\n",
       "       [-0.43474664],\n",
       "       [-0.43474664]])"
      ]
     },
     "execution_count": 64,
     "metadata": {},
     "output_type": "execute_result"
    }
   ],
   "source": [
    "X_norm"
   ]
  },
  {
   "cell_type": "code",
   "execution_count": 65,
   "metadata": {},
   "outputs": [
    {
     "data": {
      "image/png": "[encoded data removed]",
      "text/plain": [
       "<Figure size 432x288 with 1 Axes>"
      ]
     },
     "metadata": {
      "needs_background": "light"
     },
     "output_type": "display_data"
    }
   ],
   "source": [
    "plt.scatter(X,Y)\n",
    "plt.scatter(X_norm,Y)\n",
    "plt.show()"
   ]
  },
  {
   "cell_type": "markdown",
   "metadata": {},
   "source": [
    "# linear regression"
   ]
  },
  {
   "cell_type": "code",
   "execution_count": 53,
   "metadata": {},
   "outputs": [],
   "source": [
    "def hypothesis(x, theta):\n",
    "    \"\"\"\n",
    "    theta : list of th1 and th0\n",
    "    \n",
    "    x : input(scalar)\n",
    "    \"\"\"\n",
    "    return theta[0] + theta[1]*x"
   ]
  },
  {
   "cell_type": "code",
   "execution_count": 66,
   "metadata": {},
   "outputs": [],
   "source": [
    "def error(X,y, theta):\n",
    "    \"\"\"\n",
    "    x : dataset (99,1)\n",
    "    y : (99,1)\n",
    "    theta : (2, )\n",
    "    \"\"\"\n",
    "    m = x.shape[0]\n",
    "    total_err = 0.\n",
    "    \n",
    "    for i in range(m):\n",
    "        y_ = hypothesis(x[i], theta)\n",
    "        total_err += (y_ - y[i])**2\n",
    "    \n",
    "    return float(total_err/m)"
   ]
  },
  {
   "cell_type": "code",
   "execution_count": 67,
   "metadata": {},
   "outputs": [
    {
     "data": {
      "text/plain": [
       "0.9932838201010109"
      ]
     },
     "execution_count": 67,
     "metadata": {},
     "output_type": "execute_result"
    }
   ],
   "source": [
    "error(X, y, np.array([0,0]))"
   ]
  },
  {
   "cell_type": "code",
   "execution_count": 75,
   "metadata": {},
   "outputs": [],
   "source": [
    "def gradient(X, y, theta):\n",
    "    \"\"\"\n",
    "    x:(99,1)\n",
    "    \n",
    "    \"\"\"\n",
    "    m = X.shape[0]\n",
    "    grad = np.zeros(2)\n",
    "    \n",
    "    for i in range(m):\n",
    "        y_ = hypothesis(X[i], theta)\n",
    "        grad[0] += (y_ - y[i])\n",
    "        grad[1] += (y_ - y[i]) * X[i]\n",
    "        \n",
    "    return grad/m    "
   ]
  },
  {
   "cell_type": "code",
   "execution_count": 106,
   "metadata": {},
   "outputs": [],
   "source": [
    "def gdescent(X, y, lr= 1, max_itr = 100):\n",
    "    m = X.shape[0]\n",
    "    \n",
    "    theta = np.zeros(2)\n",
    "    losses=[]\n",
    "    \n",
    "    for i in range(max_itr):\n",
    "        \n",
    "        e = error(X, y, theta)\n",
    "        \n",
    "        losses.append(e)\n",
    "        \n",
    "        grad = gradient(X, y, theta)\n",
    "        \n",
    "        theta[0] = theta[0]  - lr*grad[0]\n",
    "        theta[1] = theta[1]  - lr*grad[1]\n",
    "        \n",
    "    return theta, losses    "
   ]
  },
  {
   "cell_type": "code",
   "execution_count": 107,
   "metadata": {},
   "outputs": [],
   "source": [
    "Theta,Losses = gdescent(X_norm,y)"
   ]
  },
  {
   "cell_type": "code",
   "execution_count": 108,
   "metadata": {},
   "outputs": [
    {
     "data": {
      "image/png": "[encoded data removed]",
      "text/plain": [
       "<Figure size 432x288 with 1 Axes>"
      ]
     },
     "metadata": {
      "needs_background": "light"
     },
     "output_type": "display_data"
    }
   ],
   "source": [
    "plt.plot(Losses)\n",
    "plt.show()"
   ]
  },
  {
   "cell_type": "code",
   "execution_count": 109,
   "metadata": {},
   "outputs": [],
   "source": [
    "x_test = np.array([-1,0,1,2,3,4,5])"
   ]
  },
  {
   "cell_type": "code",
   "execution_count": 110,
   "metadata": {},
   "outputs": [],
   "source": [
    "y_pred = hypothesis(x_test, Theta)"
   ]
  },
  {
   "cell_type": "code",
   "execution_count": 111,
   "metadata": {},
   "outputs": [
    {
     "data": {
      "text/plain": [
       "[<matplotlib.lines.Line2D at 0x5dd14a8>]"
      ]
     },
     "execution_count": 111,
     "metadata": {},
     "output_type": "execute_result"
    },
    {
     "data": {
      "image/png": "[encoded data removed]",
      "text/plain": [
       "<Figure size 432x288 with 1 Axes>"
      ]
     },
     "metadata": {
      "needs_background": "light"
     },
     "output_type": "display_data"
    }
   ],
   "source": [
    "plt.scatter(X_norm,y)\n",
    "plt.plot(x_test, y_pred, color=\"orange\")"
   ]
  },
  {
   "cell_type": "code",
   "execution_count": null,
   "metadata": {},
   "outputs": [],
   "source": []
  },
  {
   "cell_type": "markdown",
   "metadata": {},
   "source": [
    "# sklearn"
   ]
  },
  {
   "cell_type": "code",
   "execution_count": 112,
   "metadata": {},
   "outputs": [],
   "source": [
    "from sklearn.linear_model import LinearRegression"
   ]
  },
  {
   "cell_type": "code",
   "execution_count": 113,
   "metadata": {},
   "outputs": [],
   "source": [
    "lin_reg = LinearRegression()"
   ]
  },
  {
   "cell_type": "code",
   "execution_count": 114,
   "metadata": {},
   "outputs": [
    {
     "data": {
      "text/plain": [
       "LinearRegression(copy_X=True, fit_intercept=True, n_jobs=None, normalize=False)"
      ]
     },
     "execution_count": 114,
     "metadata": {},
     "output_type": "execute_result"
    }
   ],
   "source": [
    "lin_reg.fit(X_norm, y)"
   ]
  },
  {
   "cell_type": "code",
   "execution_count": 115,
   "metadata": {},
   "outputs": [
    {
     "data": {
      "text/plain": [
       "array([[0.00135794]])"
      ]
     },
     "execution_count": 115,
     "metadata": {},
     "output_type": "execute_result"
    }
   ],
   "source": [
    "lin_reg.coef_"
   ]
  },
  {
   "cell_type": "code",
   "execution_count": 116,
   "metadata": {},
   "outputs": [
    {
     "data": {
      "text/plain": [
       "array([0.99663414])"
      ]
     },
     "execution_count": 116,
     "metadata": {},
     "output_type": "execute_result"
    }
   ],
   "source": [
    "lin_reg.intercept_"
   ]
  },
  {
   "cell_type": "code",
   "execution_count": 117,
   "metadata": {},
   "outputs": [
    {
     "data": {
      "text/plain": [
       "array([[0.9952762 ],\n",
       "       [0.99663414],\n",
       "       [0.99799208],\n",
       "       [0.99935002],\n",
       "       [1.00070796],\n",
       "       [1.0020659 ],\n",
       "       [1.00342384]])"
      ]
     },
     "execution_count": 117,
     "metadata": {},
     "output_type": "execute_result"
    }
   ],
   "source": [
    "lin_reg.predict(x_test.reshape((-1,1)))"
   ]
  },
  {
   "cell_type": "markdown",
   "metadata": {},
   "source": [
    "# diff models in SKlearn"
   ]
  },
  {
   "cell_type": "code",
   "execution_count": 118,
   "metadata": {},
   "outputs": [],
   "source": [
    "from sklearn.svm import SVR"
   ]
  },
  {
   "cell_type": "code",
   "execution_count": 119,
   "metadata": {},
   "outputs": [
    {
     "name": "stderr",
     "output_type": "stream",
     "text": [
      "c:\\users\\dhrit\\appdata\\local\\programs\\python\\python38-32\\lib\\site-packages\\sklearn\\utils\\validation.py:760: DataConversionWarning: A column-vector y was passed when a 1d array was expected. Please change the shape of y to (n_samples, ), for example using ravel().\n",
      "  y = column_or_1d(y, warn=True)\n"
     ]
    },
    {
     "data": {
      "text/plain": [
       "SVR(C=1.0, cache_size=200, coef0=0.0, degree=3, epsilon=0.1, gamma='scale',\n",
       "    kernel='rbf', max_iter=-1, shrinking=True, tol=0.001, verbose=False)"
      ]
     },
     "execution_count": 119,
     "metadata": {},
     "output_type": "execute_result"
    }
   ],
   "source": [
    "model = SVR()\n",
    "model.fit(X_norm, y)"
   ]
  },
  {
   "cell_type": "code",
   "execution_count": null,
   "metadata": {},
   "outputs": [],
   "source": []
  }
 ],
 "metadata": {
  "kernelspec": {
   "display_name": "Python 3",
   "language": "python",
   "name": "python3"
  },
  "language_info": {
   "codemirror_mode": {
    "name": "ipython",
    "version": 3
   },
   "file_extension": ".py",
   "mimetype": "text/x-python",
   "name": "python",
   "nbconvert_exporter": "python",
   "pygments_lexer": "ipython3",
   "version": "3.8.2"
  }
 },
 "nbformat": 4,
 "nbformat_minor": 4
}
